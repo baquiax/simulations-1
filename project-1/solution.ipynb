{
 "cells": [
  {
   "cell_type": "markdown",
   "metadata": {},
   "source": [
    "```\n",
    "Alexander Baquiax\n",
    "12007988\n",
    "```"
   ]
  },
  {
   "cell_type": "code",
   "execution_count": 38,
   "metadata": {},
   "outputs": [],
   "source": [
    "import numpy as np\n",
    "from enum import Enum\n",
    "\n",
    "class SpinnerGame:\n",
    "    class Side(Enum):\n",
    "        GIVE_1 = 1\n",
    "        GIVE_2 = 2\n",
    "        GET_1 = 3\n",
    "        GET_2 = 4\n",
    "        GET_ALL = 5\n",
    "        ALL_GIVE = 6\n",
    "    \n",
    "    class Player:\n",
    "        def __init__(self, money):\n",
    "            self.money = money\n",
    "            self.history = []\n",
    "        \n",
    "        def update(self, side, money):\n",
    "            self.money += money\n",
    "            self.history.append((side, money))\n",
    "\n",
    "    def __init__(self, players = 4, start_money = 10.0):\n",
    "        self.n_players = players\n",
    "        self.pool_money = 0.0\n",
    "        self.current_player = 0\n",
    "        self.players = [SpinnerGame.Player(start_money) for _ in range(players)]\n",
    "\n",
    "    def spin(self) -> Side:\n",
    "        side = SpinnerGame.Side(np.random.randint(1, 7))\n",
    "\n",
    "        if side == SpinnerGame.Side.GIVE_1:\n",
    "            self.pool_money += 1.0\n",
    "            self.players[self.current_player].update(side, -1.0)\n",
    "        elif side == SpinnerGame.Side.GIVE_2:\n",
    "            self.pool_money += 2.0\n",
    "            self.players[self.current_player].update(side, -2.0)\n",
    "        elif side == SpinnerGame.Side.GET_1:\n",
    "            self.pool_money -= 1.0\n",
    "            self.players[self.current_player].update(side, 1.0)\n",
    "        elif side == SpinnerGame.Side.GET_2:\n",
    "            self.pool_money -= 2.0\n",
    "            self.players[self.current_player].update(side, 2.0)\n",
    "        elif side == SpinnerGame.Side.GET_ALL:\n",
    "            self.players[self.current_player].update(side, self.pool_money)\n",
    "            self.pool_money = 0.0\n",
    "        elif side == SpinnerGame.Side.ALL_GIVE:\n",
    "            for i in range(self.n_players):\n",
    "                self.pool_money += 1.0\n",
    "                self.players[i].update(side, -1.0)\n",
    "            \n",
    "        self.current_player = (self.current_player + 1) % self.n_players\n",
    "\n",
    "        return side\n",
    "    "
   ]
  },
  {
   "cell_type": "code",
   "execution_count": 45,
   "metadata": {},
   "outputs": [],
   "source": [
    "spinner = SpinnerGame(4, 10.0)"
   ]
  },
  {
   "cell_type": "code",
   "execution_count": 49,
   "metadata": {},
   "outputs": [
    {
     "data": {
      "text/plain": [
       "5.0"
      ]
     },
     "execution_count": 49,
     "metadata": {},
     "output_type": "execute_result"
    }
   ],
   "source": [
    "spinner.spin()\n",
    "\n",
    "spinner.pool_money\n",
    "\n"
   ]
  },
  {
   "cell_type": "markdown",
   "metadata": {},
   "source": []
  }
 ],
 "metadata": {
  "kernelspec": {
   "display_name": "Python 3",
   "language": "python",
   "name": "python3"
  },
  "language_info": {
   "codemirror_mode": {
    "name": "ipython",
    "version": 3
   },
   "file_extension": ".py",
   "mimetype": "text/x-python",
   "name": "python",
   "nbconvert_exporter": "python",
   "pygments_lexer": "ipython3",
   "version": "3.9.7"
  },
  "orig_nbformat": 4
 },
 "nbformat": 4,
 "nbformat_minor": 2
}
