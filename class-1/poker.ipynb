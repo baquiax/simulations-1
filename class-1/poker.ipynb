{
 "cells": [
  {
   "cell_type": "code",
   "execution_count": 1,
   "metadata": {},
   "outputs": [],
   "source": [
    "from itertools import product\n",
    "import random\n",
    "from collections import Counter\n"
   ]
  },
  {
   "cell_type": "code",
   "execution_count": 3,
   "metadata": {},
   "outputs": [],
   "source": [
    "card_symbols = [\"A\", \"2\", \"3\", \"4\", \"5\", \"6\", \"7\", \"8\", \"9\", \"10\", \"J\", \"Q\", \"K\"]\n",
    "card_suits = [\"♠\", \"♥\", \"♦\", \"♣\"]"
   ]
  },
  {
   "cell_type": "code",
   "execution_count": 18,
   "metadata": {},
   "outputs": [
    {
     "name": "stdout",
     "output_type": "stream",
     "text": [
      "[('A', '♠'), ('A', '♥'), ('A', '♦'), ('A', '♣'), ('2', '♠'), ('2', '♥'), ('2', '♦'), ('2', '♣'), ('3', '♠'), ('3', '♥'), ('3', '♦'), ('3', '♣'), ('4', '♠'), ('4', '♥'), ('4', '♦'), ('4', '♣'), ('5', '♠'), ('5', '♥'), ('5', '♦'), ('5', '♣'), ('6', '♠'), ('6', '♥'), ('6', '♦'), ('6', '♣'), ('7', '♠'), ('7', '♥'), ('7', '♦'), ('7', '♣'), ('8', '♠'), ('8', '♥'), ('8', '♦'), ('8', '♣'), ('9', '♠'), ('9', '♥'), ('9', '♦'), ('9', '♣'), ('10', '♠'), ('10', '♥'), ('10', '♦'), ('10', '♣'), ('J', '♠'), ('J', '♥'), ('J', '♦'), ('J', '♣'), ('Q', '♠'), ('Q', '♥'), ('Q', '♦'), ('Q', '♣'), ('K', '♠'), ('K', '♥'), ('K', '♦'), ('K', '♣')]\n",
      "52\n"
     ]
    }
   ],
   "source": [
    "cards = list(product(card_symbols, card_suits))\n",
    "print(cards)\n",
    "print(len(cards))"
   ]
  },
  {
   "cell_type": "code",
   "execution_count": 26,
   "metadata": {},
   "outputs": [
    {
     "name": "stdout",
     "output_type": "stream",
     "text": [
      "[('7', '♣'), ('A', '♠'), ('3', '♦'), ('A', '♥'), ('2', '♥')]\n"
     ]
    }
   ],
   "source": [
    "hand = random.sample(cards, 5)\n",
    "print(hand)"
   ]
  },
  {
   "cell_type": "code",
   "execution_count": 56,
   "metadata": {},
   "outputs": [
    {
     "name": "stdout",
     "output_type": "stream",
     "text": [
      "total pairs 51853 ~= 0.51853\n"
     ]
    }
   ],
   "source": [
    "pairs = 0\n",
    "total_iterations = 100000\n",
    "for i in range(total_iterations):\n",
    "    hand = random.sample(cards, 5)\n",
    "    \n",
    "\n",
    "    numbers = []\n",
    "    suits = []\n",
    "\n",
    "    for card in hand:\n",
    "        number = card[0]\n",
    "        numbers.append(number)\n",
    "\n",
    "        suit = card[1]\n",
    "        suits.append(suit)\n",
    "        \n",
    "    numbers_counter = Counter(numbers)\n",
    "\n",
    "    for number, count in numbers_counter.items():\n",
    "        if count == 2:\n",
    "            pairs += 1\n",
    "        \n",
    "print(f\"total pairs {pairs} ~= {pairs/total_iterations}\")"
   ]
  }
 ],
 "metadata": {
  "kernelspec": {
   "display_name": "Python 3",
   "language": "python",
   "name": "python3"
  },
  "language_info": {
   "codemirror_mode": {
    "name": "ipython",
    "version": 3
   },
   "file_extension": ".py",
   "mimetype": "text/x-python",
   "name": "python",
   "nbconvert_exporter": "python",
   "pygments_lexer": "ipython3",
   "version": "3.7.9"
  },
  "orig_nbformat": 4
 },
 "nbformat": 4,
 "nbformat_minor": 2
}
