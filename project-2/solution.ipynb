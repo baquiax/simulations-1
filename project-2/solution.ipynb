{
 "cells": [
  {
   "cell_type": "markdown",
   "metadata": {},
   "source": [
    "```\n",
    "Alexander Baquiax\n",
    "12007988\n",
    "```"
   ]
  },
  {
   "cell_type": "code",
   "execution_count": 140,
   "metadata": {},
   "outputs": [],
   "source": [
    "import random\n",
    "from typing import List, Tuple\n",
    "import math"
   ]
  },
  {
   "cell_type": "markdown",
   "metadata": {},
   "source": [
    "**Problema**\n",
    "\n",
    "$\\textrm{Max }  Z = \\sum \\limits _{i=1}^{N} V_i * X_i $\n",
    "- $V_i$ representa la cantidad de azucar recolectable en la parcela $i$.\n",
    "- $X_i$ representa una variable binaria que indica si se sembrará en la parcela $i$ o no.\n",
    "\n",
    "\n",
    "**Restricciones**\n",
    "\n",
    "$\\sum \\limits _{i=1}^{N} P_i * X_i \\leq W$\n",
    "- $P_i$ representa el tiempo estimado para cosechar en a parcela $i$.\n",
    "- $X_i$ representa una variable binaria que indica si se sembrará en la parcela $i$ o no.\n",
    "- $W$ representa el tiempo disponible para cosechar.\n",
    "\n",
    "$\\sum \\limits _{i=1}^{N} V_i * X_i \\leq C$\n",
    "- $V_i$ representa la cantidad de azucar recolectable en la parcela $i$.\n",
    "- $X_i$ representa una variable binaria que indica si se sembrará en la parcela $i$ o no.\n",
    "- $C$ representa la cantidad máxima de carga\n",
    "\n",
    "$X_i \\in \\{0,1\\}$\n",
    "- $X_i$ representa una variable binaria que indica si se sembrará en la parcela $i$ o no."
   ]
  },
  {
   "cell_type": "markdown",
   "metadata": {},
   "source": [
    "### Preparación"
   ]
  },
  {
   "cell_type": "code",
   "execution_count": 141,
   "metadata": {},
   "outputs": [],
   "source": [
    "class Land:\n",
    "    def __init__(self, id=0, capacity=100, cost=0.0):\n",
    "        self.id: int = id\n",
    "        self.capacity: float = capacity\n",
    "        self.cost: float = cost\n",
    "\n",
    "def build_lands(N = 100) -> Tuple[List[Land], float]: \n",
    "    lands: List[Land] = []\n",
    "    lands_capacity: float = 0\n",
    "    for i in range(1, N + 1):\n",
    "        capacity = random.uniform(100.00, 1200.00)\n",
    "        cost = random.uniform(1.0, 10.0)\n",
    "\n",
    "        lands_capacity += capacity\n",
    "        lands.append(Land(id=i, capacity=capacity, cost=cost))\n",
    "        \n",
    "    return lands, lands_capacity"
   ]
  },
  {
   "cell_type": "code",
   "execution_count": 142,
   "metadata": {},
   "outputs": [],
   "source": [
    "def  build_pickups(min  = 50, max=100, min_capacity = 1000.00, max_capacity = 2500.00) -> float:\n",
    "    total_capacity = 0.0\n",
    "    for i in range(1, random.randint(min, max)):\n",
    "        total_capacity += random.uniform(min_capacity, max_capacity)\n",
    "    \n",
    "    return total_capacity  \n"
   ]
  },
  {
   "cell_type": "code",
   "execution_count": 143,
   "metadata": {},
   "outputs": [],
   "source": [
    "def build_people(min = 20, max = 100, hours_person=40) -> int:\n",
    "    return random.randint(min, max) * hours_person"
   ]
  },
  {
   "cell_type": "markdown",
   "metadata": {},
   "source": [
    "#### Inicialización de valores"
   ]
  },
  {
   "cell_type": "code",
   "execution_count": 144,
   "metadata": {},
   "outputs": [
    {
     "name": "stdout",
     "output_type": "stream",
     "text": [
      "Total lands: 100\n",
      "Total lands capacity: 63131.46 KG\n",
      "Total people time: 1040.00 H\n",
      "Total pickups capacity: 38313.44 KG\n"
     ]
    }
   ],
   "source": [
    "N = 100 # total lands\n",
    "lands, V = build_lands(N=100)\n",
    "W = build_people(min=20, max=40, hours_person=40)\n",
    "C = build_pickups(min=20, max=30, min_capacity=1000.00, max_capacity=2500.00)\n",
    "\n",
    "print(f\"Total lands: {len(lands)}\")\n",
    "print(f\"Total lands capacity: {V:.2f} KG\")\n",
    "print(f\"Total people time: {W:.2f} H\")\n",
    "print(f\"Total pickups capacity: {C:.2f} KG\")"
   ]
  },
  {
   "cell_type": "markdown",
   "metadata": {},
   "source": [
    "#### Definición de funciones a usar\n"
   ]
  },
  {
   "cell_type": "code",
   "execution_count": 155,
   "metadata": {},
   "outputs": [],
   "source": [
    "def objective(X: List[float] = []):\n",
    "    return sum([x_i * v_i for x_i, v_i in zip(X, [land.capacity for land in lands])])\n",
    "\n",
    "def restriction_a(X: List[float] = []):\n",
    "    return sum([x_i * p_i for x_i, p_i in zip(X, [land.cost for land in lands])]) <= W\n",
    "\n",
    "def restriction_b(X: List[float] = []):\n",
    "    return sum([x_i * v_i for x_i, v_i in zip(X, [land.capacity for land in lands])]) <= C"
   ]
  },
  {
   "cell_type": "code",
   "execution_count": 146,
   "metadata": {},
   "outputs": [],
   "source": [
    "PENALTY = 100\n",
    "\n",
    "def fitness(X: List[float] = []):\n",
    "    fit = objective(X)\n",
    "\n",
    "    if not restriction_a(X):\n",
    "        fit -= PENALTY\n",
    "\n",
    "    if not restriction_b(X):\n",
    "        fit -= PENALTY \n",
    "    \n",
    "    return fit\n"
   ]
  },
  {
   "cell_type": "markdown",
   "metadata": {},
   "source": [
    "### Algoritmo Genético"
   ]
  },
  {
   "cell_type": "code",
   "execution_count": 156,
   "metadata": {},
   "outputs": [
    {
     "name": "stdout",
     "output_type": "stream",
     "text": [
      "Best solution with Z = 42244.046480301346 is [1.0, 0.0, 1.0, 0.0, 1.0, 0.0, 0.0, 1.0, 0.0, 0.0, 0.0, 0.0, 1.0, 1.0, 0.0, 1.0, 1.0, 1.0, 1.0, 0.0, 1.0, 0.0, 1.0, 1.0, 0.0, 1.0, 0.0, 0.0, 1.0, 0.0, 0.0, 1.0, 0.0, 0.0, 0.0, 1.0, 1.0, 1.0, 0.0, 1.0, 0.0, 1.0, 1.0, 0.0, 1.0, 1.0, 1.0, 1.0, 1.0, 1.0, 0.0, 1.0, 1.0, 1.0, 1.0, 1.0, 1.0, 1.0, 0.0, 1.0, 1.0, 1.0, 1.0, 1.0, 1.0, 0.0, 1.0, 1.0, 0.0, 1.0, 1.0, 0.0, 0.0, 1.0, 0.0, 1.0, 1.0, 1.0, 0.0, 0.0, 1.0, 1.0, 0.0, 1.0, 1.0, 1.0, 1.0, 1.0, 1.0, 0.0, 1.0, 1.0, 1.0, 1.0, 1.0, 1.0, 1.0, 0.0, 1.0, 0.0]\n"
     ]
    }
   ],
   "source": [
    "POPULATION_SIZE = 100\n",
    "MUTATION_RATE = 0.1 \n",
    "\n",
    "def genetic_algorithm():\n",
    "    population: List[float] = [[random.choice([0.0, 1.0]) for _ in range(N)] for _ in range(100)]\n",
    "    \n",
    "    for _ in range(POPULATION_SIZE):\n",
    "        fitness_values = [fitness(X) for X in population]\n",
    "        \n",
    "        ## Selection\n",
    "        parents = random.choices(population, weights=fitness_values, k=POPULATION_SIZE)\n",
    "\n",
    "        ## Crossover\n",
    "        offspring = []\n",
    "        for _ in range(POPULATION_SIZE):\n",
    "            parent_a, parent_b = random.sample(parents, k=2)\n",
    "            offspring.append([random.choice([a, b]) for a, b in zip(parent_a, parent_b)])\n",
    "\n",
    "        ## Mutation\n",
    "        for i in range(POPULATION_SIZE):\n",
    "            for j in range(N):\n",
    "                if random.random() < MUTATION_RATE:\n",
    "                    offspring[i][j] = random.choice([0.0, 1.0])\n",
    "\n",
    "        population = offspring\n",
    "\n",
    "        best_fit = max(population, key=fitness)\n",
    "    \n",
    "    return best_fit\n",
    "\n",
    "best_fit = genetic_algorithm()\n",
    "print(f\"Best solution with Z = {fitness(best_fit)} is {best_fit}\" )"
   ]
  },
  {
   "cell_type": "markdown",
   "metadata": {},
   "source": [
    "### Algoritmo de recocido"
   ]
  },
  {
   "cell_type": "code",
   "execution_count": 173,
   "metadata": {},
   "outputs": [
    {
     "name": "stdout",
     "output_type": "stream",
     "text": [
      "Best solution with Z = 38311.576286724885 is [0.0, 1.0, 1.0, 1.0, 0.0, 1.0, 0.0, 1.0, 0.0, 1.0, 0.0, 1.0, 1.0, 1.0, 1.0, 1.0, 0.0, 0.0, 0.0, 1.0, 1.0, 0.0, 1.0, 0.0, 0.0, 0.0, 1.0, 1.0, 1.0, 0.0, 1.0, 0.0, 0.0, 1.0, 1.0, 0.0, 1.0, 1.0, 1.0, 0.0, 0.0, 1.0, 1.0, 1.0, 0.0, 1.0, 1.0, 1.0, 0.0, 1.0, 1.0, 0.0, 1.0, 0.0, 1.0, 1.0, 0.0, 1.0, 0.0, 0.0, 1.0, 0.0, 0.0, 0.0, 1.0, 1.0, 0.0, 1.0, 1.0, 0.0, 0.0, 1.0, 1.0, 0.0, 1.0, 1.0, 1.0, 1.0, 1.0, 0.0, 0.0, 1.0, 1.0, 0.0, 1.0, 0.0, 1.0, 1.0, 0.0, 1.0, 1.0, 1.0, 1.0, 1.0, 1.0, 1.0, 1.0, 1.0, 1.0, 0.0]\n"
     ]
    }
   ],
   "source": [
    "INITIAL_TEMPERATURE = 10000\n",
    "FINAL_TEMPERATURE = 0.1\n",
    "ALPHA = 0.9995\n",
    "\n",
    "def simulated_annealing():\n",
    "    current_solution = [random.choice([0.0, 1.0]) for _ in range(N)]\n",
    "    current_value = objective(current_solution)\n",
    "    best_solution = current_solution.copy()\n",
    "    best_value = current_value  \n",
    "\n",
    "    temperature = INITIAL_TEMPERATURE\n",
    "\n",
    "    while temperature > FINAL_TEMPERATURE:\n",
    "        next_solution = current_solution\n",
    "        swap_index = random.randint(0, N - 1)\n",
    "\n",
    "        next_solution[swap_index] = 1 - next_solution[swap_index]\n",
    "\n",
    "        if not (restriction_a(next_solution) and restriction_b(next_solution)):\n",
    "            temperature *= ALPHA\n",
    "            continue\n",
    "\n",
    "        next_value = objective(next_solution)\n",
    "\n",
    "        if next_value > current_value or random.random() < math.exp((next_value - current_value) / temperature):\n",
    "            current_solution = next_solution\n",
    "            current_value = next_value\n",
    "\n",
    "        if current_value > best_value:\n",
    "            best_solution = current_solution.copy()\n",
    "            best_value = current_value\n",
    "\n",
    "        temperature *= ALPHA\n",
    "        \n",
    "    return best_solution, best_value\n",
    "\n",
    "best_solution, best_value = simulated_annealing()\n",
    "print(f\"Best solution with Z = {best_value} is {best_solution}\" )"
   ]
  },
  {
   "cell_type": "code",
   "execution_count": null,
   "metadata": {},
   "outputs": [],
   "source": []
  }
 ],
 "metadata": {
  "kernelspec": {
   "display_name": "Python 3",
   "language": "python",
   "name": "python3"
  },
  "language_info": {
   "codemirror_mode": {
    "name": "ipython",
    "version": 3
   },
   "file_extension": ".py",
   "mimetype": "text/x-python",
   "name": "python",
   "nbconvert_exporter": "python",
   "pygments_lexer": "ipython3",
   "version": "3.7.9"
  },
  "orig_nbformat": 4
 },
 "nbformat": 4,
 "nbformat_minor": 2
}
